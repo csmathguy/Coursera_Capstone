{
    "nbformat_minor": 1, 
    "cells": [
        {
            "source": "<h1>Capstone Project - The Battle of the Neighborhoods</h1>\n<h3>Applied Data Science Capstone by IBM/Coursera</h3>", 
            "cell_type": "markdown", 
            "metadata": {}
        }, 
        {
            "source": "## Table of Contents\n* [Introduction/Business Problem](#introduction)\n* [Data](#data)\n* [Methodology](#methodology)\n* [Analysis](#analysis)\n* [Results and Discussion](#results)\n* [Conclusion](#conclusion)", 
            "cell_type": "markdown", 
            "metadata": {}
        }, 
        {
            "source": "<a name=\"introduction\"></a>\n<h2>Introduction/Business Problem</h2>\n<p>Most parents want to live in the best environment possible for their kids. As a parent myself, I want my kids to grow up in the most kid-friendly environment possible.  When choicing a city to live in it is important to know how kid-friendly a city is.  In this project, we will try to determine the most kid-friendly cities in the state of Oregon. We will do this by evaluating kid-friendly venues around each major city to determine which cities are the most kid-friendly.</p>\n<p>We will be reviewing a list of categories a venue can have and determine if it is a kid-friendly category.  Once we have determined the kid-friendly categories, we will use those categories to determine what venues are around a set of cities and use the number of venues to score how kid-friendly a city is.</p>", 
            "cell_type": "markdown", 
            "metadata": {}
        }, 
        {
            "source": "<a name=\"data\"></a>\n<h2>Data</h2>\n<p>Based on our problem, we will need the following collections of data for our analysis:</p>\n<ul>\n    <li>A dataset of cities in Oregon with their lat/long as a reference to get a list of kid-friendly venues.</li>\n    <li>A dataset of categories that we can use to determine if a category is kid-friendly.</li>\n    <li>A dataset of venues around a city with a kid-friendly category.</li>\n</ul>\n\n<p>We will be making a few assumptions with our data:</p>\n<ul>\n    <li>We will look for kid-friendly venues in a circular area around the center point of the city. This mean we may not cover the entire city.  It also mean if two small cities are near each other, there may be some overlap in the venues.</li>\n    <li>The dataset we use may not assign certain categories to the venues, so some kid-friendly venues might be excludes.  For example, lets say 'Chuck-E-Cheese' has a category of restaurant only, if the restaurant category is not labelled as kid-friendly it will not be included.  However, if it has the label of 'arcade' as well, which we will mark as kid-friendly category, then it will included.</li>\n</ul>\n\n<p>The following data sources will be needed to extract/generate the required information:</p>\n<ul>\n    <li>Venues will be obtained using <b>Foursquare API</b>.</li>\n    <li>Venue Categories will be obtained using <b>Foursquare API</b>.</li>\n    <li>Lat/Long of Cities in Oregon will be obtained from <a href='https://public.opendatasoft.com/explore/dataset/us-zip-code-latitude-and-longitude/export/?refine.state=OR' target='_blank'>https://public.opendatasoft.com/explore/dataset/us-zip-code-latitude-and-longitude/export/?refine.state=OR</a>.</li>\n</ul>\n", 
            "cell_type": "markdown", 
            "metadata": {}
        }, 
        {
            "source": "<h3>Samples of Data</h3>", 
            "cell_type": "markdown", 
            "metadata": {}
        }, 
        {
            "source": "<h4>Latitude and Longitude of Cities in Oregon</h4>", 
            "cell_type": "markdown", 
            "metadata": {}
        }, 
        {
            "execution_count": 23, 
            "cell_type": "code", 
            "metadata": {}, 
            "outputs": [], 
            "source": "import numpy as np\nimport types\nimport pandas as pd\nfrom pandas.io.json import json_normalize\nfrom botocore.client import Config\nimport ibm_boto3\n\ndef __iter__(self): return 0"
        }, 
        {
            "execution_count": 24, 
            "cell_type": "code", 
            "metadata": {}, 
            "outputs": [], 
            "source": "# The code was removed by Watson Studio for sharing."
        }, 
        {
            "execution_count": 25, 
            "cell_type": "code", 
            "metadata": {}, 
            "outputs": [
                {
                    "execution_count": 25, 
                    "metadata": {}, 
                    "data": {
                        "text/html": "<div>\n<style scoped>\n    .dataframe tbody tr th:only-of-type {\n        vertical-align: middle;\n    }\n\n    .dataframe tbody tr th {\n        vertical-align: top;\n    }\n\n    .dataframe thead th {\n        text-align: right;\n    }\n</style>\n<table border=\"1\" class=\"dataframe\">\n  <thead>\n    <tr style=\"text-align: right;\">\n      <th></th>\n      <th>Zip</th>\n      <th>City</th>\n      <th>State</th>\n      <th>Latitude</th>\n      <th>Longitude</th>\n      <th>Timezone</th>\n      <th>Daylight savings time flag</th>\n      <th>geopoint</th>\n    </tr>\n  </thead>\n  <tbody>\n    <tr>\n      <th>0</th>\n      <td>97001</td>\n      <td>Antelope</td>\n      <td>OR</td>\n      <td>44.904051</td>\n      <td>-120.67244</td>\n      <td>-8</td>\n      <td>1</td>\n      <td>44.904051, -120.67244</td>\n    </tr>\n    <tr>\n      <th>1</th>\n      <td>97015</td>\n      <td>Clackamas</td>\n      <td>OR</td>\n      <td>45.416785</td>\n      <td>-122.52859</td>\n      <td>-8</td>\n      <td>1</td>\n      <td>45.416785, -122.52859</td>\n    </tr>\n    <tr>\n      <th>2</th>\n      <td>97070</td>\n      <td>Wilsonville</td>\n      <td>OR</td>\n      <td>45.308105</td>\n      <td>-122.77266</td>\n      <td>-8</td>\n      <td>1</td>\n      <td>45.308105, -122.77266</td>\n    </tr>\n    <tr>\n      <th>3</th>\n      <td>97110</td>\n      <td>Cannon Beach</td>\n      <td>OR</td>\n      <td>45.894287</td>\n      <td>-123.96100</td>\n      <td>-8</td>\n      <td>1</td>\n      <td>45.894287, -123.961</td>\n    </tr>\n    <tr>\n      <th>4</th>\n      <td>97112</td>\n      <td>Cloverdale</td>\n      <td>OR</td>\n      <td>45.257176</td>\n      <td>-123.89141</td>\n      <td>-8</td>\n      <td>1</td>\n      <td>45.257176, -123.89141</td>\n    </tr>\n  </tbody>\n</table>\n</div>", 
                        "text/plain": "     Zip          City State   Latitude  Longitude  Timezone  \\\n0  97001      Antelope    OR  44.904051 -120.67244        -8   \n1  97015     Clackamas    OR  45.416785 -122.52859        -8   \n2  97070   Wilsonville    OR  45.308105 -122.77266        -8   \n3  97110  Cannon Beach    OR  45.894287 -123.96100        -8   \n4  97112    Cloverdale    OR  45.257176 -123.89141        -8   \n\n   Daylight savings time flag               geopoint  \n0                           1  44.904051, -120.67244  \n1                           1  45.416785, -122.52859  \n2                           1  45.308105, -122.77266  \n3                           1    45.894287, -123.961  \n4                           1  45.257176, -123.89141  "
                    }, 
                    "output_type": "execute_result"
                }
            ], 
            "source": "body = client.get_object(Bucket='courseraibmapplieddatasciencecaps-donotdelete-pr-1plbhmv1f3ta9w',Key='us-zip-code-latitude-and-longitude.csv')['Body']\n# add missing __iter__ method, so pandas accepts body as file-like object\nif not hasattr(body, \"__iter__\"): body.__iter__ = types.MethodType( __iter__, body )\n\nzipcode_df = pd.read_csv(body, delimiter=';')\nzipcode_df.head()"
        }, 
        {
            "source": "<h4>Venue Categories</h4>", 
            "cell_type": "markdown", 
            "metadata": {}
        }, 
        {
            "execution_count": 26, 
            "cell_type": "code", 
            "metadata": {}, 
            "outputs": [], 
            "source": "import json, requests\nurl = 'https://api.foursquare.com/v2/venues/categories'\n\nparams = dict(\n  client_id='V0DGIPOL3TARSV1GJA3IFZZMB4XK4BLS1WLMHEKVY0ZXOG5L',\n  client_secret='OPHJQIJSA33Y3HU1TIM4LNMT5HJOAXAO2AU2VIITTPQGFU3S',\n  v='20180323',\n)\nresp = requests.get(url=url, params=params)\ndata = json.loads(resp.text)"
        }, 
        {
            "execution_count": 27, 
            "cell_type": "code", 
            "metadata": {}, 
            "outputs": [
                {
                    "execution_count": 27, 
                    "metadata": {}, 
                    "data": {
                        "text/html": "<div>\n<style scoped>\n    .dataframe tbody tr th:only-of-type {\n        vertical-align: middle;\n    }\n\n    .dataframe tbody tr th {\n        vertical-align: top;\n    }\n\n    .dataframe thead th {\n        text-align: right;\n    }\n</style>\n<table border=\"1\" class=\"dataframe\">\n  <thead>\n    <tr style=\"text-align: right;\">\n      <th></th>\n      <th>categories</th>\n      <th>icon.prefix</th>\n      <th>icon.suffix</th>\n      <th>id</th>\n      <th>name</th>\n      <th>pluralName</th>\n      <th>shortName</th>\n    </tr>\n  </thead>\n  <tbody>\n    <tr>\n      <th>0</th>\n      <td>[]</td>\n      <td>https://ss3.4sqi.net/img/categories_v2/arts_en...</td>\n      <td>.png</td>\n      <td>56aa371be4b08b9a8d5734db</td>\n      <td>Amphitheater</td>\n      <td>Amphitheaters</td>\n      <td>Amphitheater</td>\n    </tr>\n    <tr>\n      <th>1</th>\n      <td>[]</td>\n      <td>https://ss3.4sqi.net/img/categories_v2/arts_en...</td>\n      <td>.png</td>\n      <td>4fceea171983d5d06c3e9823</td>\n      <td>Aquarium</td>\n      <td>Aquariums</td>\n      <td>Aquarium</td>\n    </tr>\n    <tr>\n      <th>2</th>\n      <td>[]</td>\n      <td>https://ss3.4sqi.net/img/categories_v2/arts_en...</td>\n      <td>.png</td>\n      <td>4bf58dd8d48988d1e1931735</td>\n      <td>Arcade</td>\n      <td>Arcades</td>\n      <td>Arcade</td>\n    </tr>\n    <tr>\n      <th>3</th>\n      <td>[]</td>\n      <td>https://ss3.4sqi.net/img/categories_v2/arts_en...</td>\n      <td>.png</td>\n      <td>4bf58dd8d48988d1e2931735</td>\n      <td>Art Gallery</td>\n      <td>Art Galleries</td>\n      <td>Art Gallery</td>\n    </tr>\n    <tr>\n      <th>4</th>\n      <td>[]</td>\n      <td>https://ss3.4sqi.net/img/categories_v2/arts_en...</td>\n      <td>.png</td>\n      <td>4bf58dd8d48988d1e4931735</td>\n      <td>Bowling Alley</td>\n      <td>Bowling Alleys</td>\n      <td>Bowling Alley</td>\n    </tr>\n  </tbody>\n</table>\n</div>", 
                        "text/plain": "  categories                                        icon.prefix icon.suffix  \\\n0         []  https://ss3.4sqi.net/img/categories_v2/arts_en...        .png   \n1         []  https://ss3.4sqi.net/img/categories_v2/arts_en...        .png   \n2         []  https://ss3.4sqi.net/img/categories_v2/arts_en...        .png   \n3         []  https://ss3.4sqi.net/img/categories_v2/arts_en...        .png   \n4         []  https://ss3.4sqi.net/img/categories_v2/arts_en...        .png   \n\n                         id           name      pluralName      shortName  \n0  56aa371be4b08b9a8d5734db   Amphitheater   Amphitheaters   Amphitheater  \n1  4fceea171983d5d06c3e9823       Aquarium       Aquariums       Aquarium  \n2  4bf58dd8d48988d1e1931735         Arcade         Arcades         Arcade  \n3  4bf58dd8d48988d1e2931735    Art Gallery   Art Galleries    Art Gallery  \n4  4bf58dd8d48988d1e4931735  Bowling Alley  Bowling Alleys  Bowling Alley  "
                    }, 
                    "output_type": "execute_result"
                }
            ], 
            "source": "category_df = json_normalize(data['response']['categories'][0]['categories'])\ncategory_df.head()"
        }, 
        {
            "source": "<h3>Data Cleanup</h3>\n<p>TBD</p>", 
            "cell_type": "markdown", 
            "metadata": {}
        }, 
        {
            "source": "<a name=\"methodology\"></a>\n<h2>Methodology</h2>\n<p>Methodology section which represents the main component of the report where you discuss and describe any exploratory data analysis that you did, any inferential statistical testing that you performed, and what machine learnings were used and why.</p>", 
            "cell_type": "markdown", 
            "metadata": {}
        }, 
        {
            "execution_count": null, 
            "cell_type": "code", 
            "metadata": {}, 
            "outputs": [], 
            "source": ""
        }, 
        {
            "source": "<a name=\"analysis\"></a>\n<h2> Analysis </h2>\n<p> Analysis of the data based on the methodology </p>", 
            "cell_type": "markdown", 
            "metadata": {}
        }, 
        {
            "execution_count": 4, 
            "cell_type": "code", 
            "metadata": {}, 
            "outputs": [
                {
                    "execution_count": 4, 
                    "metadata": {}, 
                    "data": {
                        "text/html": "<div>\n<style scoped>\n    .dataframe tbody tr th:only-of-type {\n        vertical-align: middle;\n    }\n\n    .dataframe tbody tr th {\n        vertical-align: top;\n    }\n\n    .dataframe thead th {\n        text-align: right;\n    }\n</style>\n<table border=\"1\" class=\"dataframe\">\n  <thead>\n    <tr style=\"text-align: right;\">\n      <th></th>\n      <th>Zip</th>\n      <th>City</th>\n      <th>State</th>\n      <th>Latitude</th>\n      <th>Longitude</th>\n      <th>Timezone</th>\n      <th>Daylight savings time flag</th>\n      <th>geopoint</th>\n    </tr>\n  </thead>\n  <tbody>\n    <tr>\n      <th>0</th>\n      <td>97001</td>\n      <td>Antelope</td>\n      <td>OR</td>\n      <td>44.904051</td>\n      <td>-120.67244</td>\n      <td>-8</td>\n      <td>1</td>\n      <td>44.904051, -120.67244</td>\n    </tr>\n    <tr>\n      <th>1</th>\n      <td>97015</td>\n      <td>Clackamas</td>\n      <td>OR</td>\n      <td>45.416785</td>\n      <td>-122.52859</td>\n      <td>-8</td>\n      <td>1</td>\n      <td>45.416785, -122.52859</td>\n    </tr>\n    <tr>\n      <th>2</th>\n      <td>97070</td>\n      <td>Wilsonville</td>\n      <td>OR</td>\n      <td>45.308105</td>\n      <td>-122.77266</td>\n      <td>-8</td>\n      <td>1</td>\n      <td>45.308105, -122.77266</td>\n    </tr>\n    <tr>\n      <th>3</th>\n      <td>97110</td>\n      <td>Cannon Beach</td>\n      <td>OR</td>\n      <td>45.894287</td>\n      <td>-123.96100</td>\n      <td>-8</td>\n      <td>1</td>\n      <td>45.894287, -123.961</td>\n    </tr>\n    <tr>\n      <th>4</th>\n      <td>97112</td>\n      <td>Cloverdale</td>\n      <td>OR</td>\n      <td>45.257176</td>\n      <td>-123.89141</td>\n      <td>-8</td>\n      <td>1</td>\n      <td>45.257176, -123.89141</td>\n    </tr>\n  </tbody>\n</table>\n</div>", 
                        "text/plain": "     Zip          City State   Latitude  Longitude  Timezone  \\\n0  97001      Antelope    OR  44.904051 -120.67244        -8   \n1  97015     Clackamas    OR  45.416785 -122.52859        -8   \n2  97070   Wilsonville    OR  45.308105 -122.77266        -8   \n3  97110  Cannon Beach    OR  45.894287 -123.96100        -8   \n4  97112    Cloverdale    OR  45.257176 -123.89141        -8   \n\n   Daylight savings time flag               geopoint  \n0                           1  44.904051, -120.67244  \n1                           1  45.416785, -122.52859  \n2                           1  45.308105, -122.77266  \n3                           1    45.894287, -123.961  \n4                           1  45.257176, -123.89141  "
                    }, 
                    "output_type": "execute_result"
                }
            ], 
            "source": "\n"
        }, 
        {
            "source": "<a name=\"results\"></a>\n<h2>Results and Discussion</h2>\n<p>Results section where you discuss the results.</p>\n<p>Discussion section where you discuss any observations you noted and any recommendations you can make based on the results.</p>", 
            "cell_type": "markdown", 
            "metadata": {}
        }, 
        {
            "execution_count": null, 
            "cell_type": "code", 
            "metadata": {}, 
            "outputs": [], 
            "source": ""
        }, 
        {
            "source": "<a name=\"conclusion\"></a>\n<h2>Conclusion</h2>\n<p>Conclusion section where you conclude the report.</p>", 
            "cell_type": "markdown", 
            "metadata": {}
        }, 
        {
            "execution_count": null, 
            "cell_type": "code", 
            "metadata": {}, 
            "outputs": [], 
            "source": ""
        }
    ], 
    "metadata": {
        "kernelspec": {
            "display_name": "Python 3.5", 
            "name": "python3", 
            "language": "python"
        }, 
        "language_info": {
            "mimetype": "text/x-python", 
            "nbconvert_exporter": "python", 
            "version": "3.5.5", 
            "name": "python", 
            "file_extension": ".py", 
            "pygments_lexer": "ipython3", 
            "codemirror_mode": {
                "version": 3, 
                "name": "ipython"
            }
        }
    }, 
    "nbformat": 4
}